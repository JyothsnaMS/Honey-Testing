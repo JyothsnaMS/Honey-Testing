{
 "cells": [
  {
   "cell_type": "code",
   "execution_count": 1,
   "id": "778091d9",
   "metadata": {},
   "outputs": [],
   "source": [
    "import pandas as pd\n",
    "import numpy as np\n",
    "from sklearn.model_selection import train_test_split"
   ]
  },
  {
   "cell_type": "code",
   "execution_count": 4,
   "id": "34fff7a0",
   "metadata": {},
   "outputs": [],
   "source": [
    "data = pd.read_csv('Sample.csv')"
   ]
  },
  {
   "cell_type": "code",
   "execution_count": 33,
   "id": "833a89cb",
   "metadata": {},
   "outputs": [],
   "source": [
    "#data.to_string()"
   ]
  },
  {
   "cell_type": "code",
   "execution_count": 5,
   "id": "87903878",
   "metadata": {
    "scrolled": true
   },
   "outputs": [
    {
     "data": {
      "text/html": [
       "<div>\n",
       "<style scoped>\n",
       "    .dataframe tbody tr th:only-of-type {\n",
       "        vertical-align: middle;\n",
       "    }\n",
       "\n",
       "    .dataframe tbody tr th {\n",
       "        vertical-align: top;\n",
       "    }\n",
       "\n",
       "    .dataframe thead th {\n",
       "        text-align: right;\n",
       "    }\n",
       "</style>\n",
       "<table border=\"1\" class=\"dataframe\">\n",
       "  <thead>\n",
       "    <tr style=\"text-align: right;\">\n",
       "      <th></th>\n",
       "      <th>samples</th>\n",
       "      <th>Glucose</th>\n",
       "      <th>Fructose</th>\n",
       "      <th>Isomaltose</th>\n",
       "      <th>Saccharose</th>\n",
       "      <th>Raffinose</th>\n",
       "      <th>Turanose</th>\n",
       "      <th>Maltose</th>\n",
       "      <th>G/W</th>\n",
       "      <th>F/G</th>\n",
       "      <th>F+G</th>\n",
       "      <th>Total sugars</th>\n",
       "      <th>Adulteration</th>\n",
       "    </tr>\n",
       "  </thead>\n",
       "  <tbody>\n",
       "    <tr>\n",
       "      <th>0</th>\n",
       "      <td>Go07</td>\n",
       "      <td>32.7</td>\n",
       "      <td>32.1</td>\n",
       "      <td>0.8</td>\n",
       "      <td>2.1</td>\n",
       "      <td>-</td>\n",
       "      <td>1.1</td>\n",
       "      <td>2.4</td>\n",
       "      <td>2.0</td>\n",
       "      <td>2.00</td>\n",
       "      <td>64.8</td>\n",
       "      <td>71.2</td>\n",
       "      <td>Ideal</td>\n",
       "    </tr>\n",
       "    <tr>\n",
       "      <th>1</th>\n",
       "      <td>Bo07</td>\n",
       "      <td>20.7</td>\n",
       "      <td>28.4</td>\n",
       "      <td>1.0</td>\n",
       "      <td>1.0</td>\n",
       "      <td>-</td>\n",
       "      <td>1.2</td>\n",
       "      <td>1.0</td>\n",
       "      <td>1.2</td>\n",
       "      <td>1.71</td>\n",
       "      <td>49.1</td>\n",
       "      <td>53.3</td>\n",
       "      <td>Less</td>\n",
       "    </tr>\n",
       "    <tr>\n",
       "      <th>2</th>\n",
       "      <td>Mo07</td>\n",
       "      <td>32.8</td>\n",
       "      <td>44.1</td>\n",
       "      <td>0.6</td>\n",
       "      <td>0.7</td>\n",
       "      <td>-</td>\n",
       "      <td>0.6</td>\n",
       "      <td>1.9</td>\n",
       "      <td>2.2</td>\n",
       "      <td>2.98</td>\n",
       "      <td>76.9</td>\n",
       "      <td>80.7</td>\n",
       "      <td>More</td>\n",
       "    </tr>\n",
       "    <tr>\n",
       "      <th>3</th>\n",
       "      <td>Pa07</td>\n",
       "      <td>27.1</td>\n",
       "      <td>37.0</td>\n",
       "      <td>1.2</td>\n",
       "      <td>1.8</td>\n",
       "      <td>0.2</td>\n",
       "      <td>1.3</td>\n",
       "      <td>0.9</td>\n",
       "      <td>1.5</td>\n",
       "      <td>2.09</td>\n",
       "      <td>64.1</td>\n",
       "      <td>69.5</td>\n",
       "      <td>Ideal</td>\n",
       "    </tr>\n",
       "    <tr>\n",
       "      <th>4</th>\n",
       "      <td>Ca07</td>\n",
       "      <td>19.5</td>\n",
       "      <td>26.3</td>\n",
       "      <td>1.4</td>\n",
       "      <td>1.5</td>\n",
       "      <td>0.2</td>\n",
       "      <td>1.0</td>\n",
       "      <td>0.6</td>\n",
       "      <td>1.0</td>\n",
       "      <td>1.38</td>\n",
       "      <td>45.8</td>\n",
       "      <td>50.5</td>\n",
       "      <td>Less</td>\n",
       "    </tr>\n",
       "  </tbody>\n",
       "</table>\n",
       "</div>"
      ],
      "text/plain": [
       "  samples  Glucose  Fructose  Isomaltose  Saccharose Raffinose  Turanose  \\\n",
       "0    Go07     32.7      32.1         0.8         2.1         -       1.1   \n",
       "1    Bo07     20.7      28.4         1.0         1.0         -       1.2   \n",
       "2    Mo07     32.8      44.1         0.6         0.7         -       0.6   \n",
       "3    Pa07     27.1      37.0         1.2         1.8       0.2       1.3   \n",
       "4    Ca07     19.5      26.3         1.4         1.5       0.2       1.0   \n",
       "\n",
       "   Maltose  G/W   F/G   F+G  Total sugars Adulteration  \n",
       "0      2.4  2.0  2.00  64.8          71.2        Ideal  \n",
       "1      1.0  1.2  1.71  49.1          53.3         Less  \n",
       "2      1.9  2.2  2.98  76.9          80.7         More  \n",
       "3      0.9  1.5  2.09  64.1          69.5        Ideal  \n",
       "4      0.6  1.0  1.38  45.8          50.5         Less  "
      ]
     },
     "execution_count": 5,
     "metadata": {},
     "output_type": "execute_result"
    }
   ],
   "source": [
    "data.head()"
   ]
  },
  {
   "cell_type": "code",
   "execution_count": 6,
   "id": "0314d36c",
   "metadata": {},
   "outputs": [
    {
     "name": "stdout",
     "output_type": "stream",
     "text": [
      "<class 'pandas.core.frame.DataFrame'>\n",
      "RangeIndex: 15 entries, 0 to 14\n",
      "Data columns (total 13 columns):\n",
      " #   Column        Non-Null Count  Dtype  \n",
      "---  ------        --------------  -----  \n",
      " 0   samples       15 non-null     object \n",
      " 1   Glucose       15 non-null     float64\n",
      " 2   Fructose      15 non-null     float64\n",
      " 3   Isomaltose    15 non-null     float64\n",
      " 4   Saccharose    15 non-null     float64\n",
      " 5   Raffinose     15 non-null     object \n",
      " 6   Turanose      15 non-null     float64\n",
      " 7   Maltose       15 non-null     float64\n",
      " 8   G/W           15 non-null     float64\n",
      " 9   F/G           15 non-null     float64\n",
      " 10  F+G           15 non-null     float64\n",
      " 11  Total sugars  15 non-null     float64\n",
      " 12  Adulteration  15 non-null     object \n",
      "dtypes: float64(10), object(3)\n",
      "memory usage: 1.6+ KB\n"
     ]
    }
   ],
   "source": [
    "data.info()"
   ]
  },
  {
   "cell_type": "code",
   "execution_count": 7,
   "id": "3992bf19",
   "metadata": {},
   "outputs": [
    {
     "data": {
      "text/plain": [
       "samples         0\n",
       "Glucose         0\n",
       "Fructose        0\n",
       "Isomaltose      0\n",
       "Saccharose      0\n",
       "Raffinose       0\n",
       "Turanose        0\n",
       "Maltose         0\n",
       "G/W             0\n",
       "F/G             0\n",
       "F+G             0\n",
       "Total sugars    0\n",
       "Adulteration    0\n",
       "dtype: int64"
      ]
     },
     "execution_count": 7,
     "metadata": {},
     "output_type": "execute_result"
    }
   ],
   "source": [
    "data.isnull().sum()"
   ]
  },
  {
   "cell_type": "code",
   "execution_count": 8,
   "id": "fb065b02",
   "metadata": {},
   "outputs": [],
   "source": [
    "df = data.drop(['samples', 'Raffinose', 'Turanose','G/W', 'F/G', 'F+G', 'Total sugars'], axis=1)"
   ]
  },
  {
   "cell_type": "code",
   "execution_count": 9,
   "id": "313bbc1d",
   "metadata": {},
   "outputs": [
    {
     "data": {
      "text/html": [
       "<div>\n",
       "<style scoped>\n",
       "    .dataframe tbody tr th:only-of-type {\n",
       "        vertical-align: middle;\n",
       "    }\n",
       "\n",
       "    .dataframe tbody tr th {\n",
       "        vertical-align: top;\n",
       "    }\n",
       "\n",
       "    .dataframe thead th {\n",
       "        text-align: right;\n",
       "    }\n",
       "</style>\n",
       "<table border=\"1\" class=\"dataframe\">\n",
       "  <thead>\n",
       "    <tr style=\"text-align: right;\">\n",
       "      <th></th>\n",
       "      <th>Glucose</th>\n",
       "      <th>Fructose</th>\n",
       "      <th>Isomaltose</th>\n",
       "      <th>Saccharose</th>\n",
       "      <th>Maltose</th>\n",
       "      <th>Adulteration</th>\n",
       "    </tr>\n",
       "  </thead>\n",
       "  <tbody>\n",
       "    <tr>\n",
       "      <th>0</th>\n",
       "      <td>32.7</td>\n",
       "      <td>32.1</td>\n",
       "      <td>0.8</td>\n",
       "      <td>2.1</td>\n",
       "      <td>2.4</td>\n",
       "      <td>Ideal</td>\n",
       "    </tr>\n",
       "    <tr>\n",
       "      <th>1</th>\n",
       "      <td>20.7</td>\n",
       "      <td>28.4</td>\n",
       "      <td>1.0</td>\n",
       "      <td>1.0</td>\n",
       "      <td>1.0</td>\n",
       "      <td>Less</td>\n",
       "    </tr>\n",
       "    <tr>\n",
       "      <th>2</th>\n",
       "      <td>32.8</td>\n",
       "      <td>44.1</td>\n",
       "      <td>0.6</td>\n",
       "      <td>0.7</td>\n",
       "      <td>1.9</td>\n",
       "      <td>More</td>\n",
       "    </tr>\n",
       "    <tr>\n",
       "      <th>3</th>\n",
       "      <td>27.1</td>\n",
       "      <td>37.0</td>\n",
       "      <td>1.2</td>\n",
       "      <td>1.8</td>\n",
       "      <td>0.9</td>\n",
       "      <td>Ideal</td>\n",
       "    </tr>\n",
       "    <tr>\n",
       "      <th>4</th>\n",
       "      <td>19.5</td>\n",
       "      <td>26.3</td>\n",
       "      <td>1.4</td>\n",
       "      <td>1.5</td>\n",
       "      <td>0.6</td>\n",
       "      <td>Less</td>\n",
       "    </tr>\n",
       "  </tbody>\n",
       "</table>\n",
       "</div>"
      ],
      "text/plain": [
       "   Glucose  Fructose  Isomaltose  Saccharose  Maltose Adulteration\n",
       "0     32.7      32.1         0.8         2.1      2.4        Ideal\n",
       "1     20.7      28.4         1.0         1.0      1.0         Less\n",
       "2     32.8      44.1         0.6         0.7      1.9         More\n",
       "3     27.1      37.0         1.2         1.8      0.9        Ideal\n",
       "4     19.5      26.3         1.4         1.5      0.6         Less"
      ]
     },
     "execution_count": 9,
     "metadata": {},
     "output_type": "execute_result"
    }
   ],
   "source": [
    "df.head()"
   ]
  },
  {
   "cell_type": "code",
   "execution_count": 10,
   "id": "0dfd74a9",
   "metadata": {},
   "outputs": [],
   "source": [
    "parameters = ['Glucose', 'Fructose', 'Isomaltose', 'Saccharose', 'Maltose']\n",
    "y_features = df['Adulteration']\n",
    "X=df[parameters].values"
   ]
  },
  {
   "cell_type": "code",
   "execution_count": 11,
   "id": "b66aa15a",
   "metadata": {
    "scrolled": true
   },
   "outputs": [
    {
     "data": {
      "text/plain": [
       "array([[32.7, 32.1,  0.8,  2.1,  2.4],\n",
       "       [20.7, 28.4,  1. ,  1. ,  1. ],\n",
       "       [32.8, 44.1,  0.6,  0.7,  1.9],\n",
       "       [27.1, 37. ,  1.2,  1.8,  0.9],\n",
       "       [19.5, 26.3,  1.4,  1.5,  0.6],\n",
       "       [27.9, 38.4,  1.2,  1.1,  0.9],\n",
       "       [29.7, 40.1,  1.7,  1.8,  2.4],\n",
       "       [27.9, 40.4,  1.7,  2. ,  1.7],\n",
       "       [26.4, 38.6,  1.6,  2.2,  2.9],\n",
       "       [27.5, 37. ,  1.2,  1.1,  1.6],\n",
       "       [26.2, 36. ,  1.7,  1.8,  1.4],\n",
       "       [19.8, 34.4,  2.1,  2. ,  0.7],\n",
       "       [26.2, 37.9,  1. ,  1.8,  1.1],\n",
       "       [26.5, 38.7,  1.9,  3.8,  1.2],\n",
       "       [26.2, 37.7,  3.3,  3.7,  1.4]])"
      ]
     },
     "execution_count": 11,
     "metadata": {},
     "output_type": "execute_result"
    }
   ],
   "source": [
    "X"
   ]
  },
  {
   "cell_type": "code",
   "execution_count": 12,
   "id": "cd987174",
   "metadata": {},
   "outputs": [
    {
     "data": {
      "text/plain": [
       "0     Ideal\n",
       "1      Less\n",
       "2      More\n",
       "3     Ideal\n",
       "4      Less\n",
       "5     Ideal\n",
       "6      More\n",
       "7      more\n",
       "8     Ideal\n",
       "9     Ideal\n",
       "10    Ideal\n",
       "11     Less\n",
       "12    IDeal\n",
       "13    Ideal\n",
       "14     More\n",
       "Name: Adulteration, dtype: object"
      ]
     },
     "execution_count": 12,
     "metadata": {},
     "output_type": "execute_result"
    }
   ],
   "source": [
    "y_features"
   ]
  },
  {
   "cell_type": "code",
   "execution_count": 13,
   "id": "e30f19fb",
   "metadata": {},
   "outputs": [
    {
     "data": {
      "text/plain": [
       "(15, 5)"
      ]
     },
     "execution_count": 13,
     "metadata": {},
     "output_type": "execute_result"
    }
   ],
   "source": [
    "X.shape"
   ]
  },
  {
   "cell_type": "code",
   "execution_count": 14,
   "id": "0bc82f5a",
   "metadata": {},
   "outputs": [],
   "source": [
    "Y = df['Adulteration'].values"
   ]
  },
  {
   "cell_type": "code",
   "execution_count": 15,
   "id": "082c3f14",
   "metadata": {},
   "outputs": [
    {
     "data": {
      "text/plain": [
       "array(['Ideal', 'Less', 'More', 'Ideal', 'Less', 'Ideal', 'More', 'more',\n",
       "       'Ideal', 'Ideal', 'Ideal', 'Less', 'IDeal', 'Ideal', 'More'],\n",
       "      dtype=object)"
      ]
     },
     "execution_count": 15,
     "metadata": {},
     "output_type": "execute_result"
    }
   ],
   "source": [
    "Y"
   ]
  },
  {
   "cell_type": "code",
   "execution_count": 16,
   "id": "0a00cdcb",
   "metadata": {},
   "outputs": [],
   "source": [
    "train_x, test_x, train_y, test_y=train_test_split(X, Y, test_size=0.25, random_state=0)"
   ]
  },
  {
   "cell_type": "code",
   "execution_count": 17,
   "id": "3395a029",
   "metadata": {},
   "outputs": [
    {
     "data": {
      "text/plain": [
       "array([[26.2, 37.7,  3.3,  3.7,  1.4],\n",
       "       [19.5, 26.3,  1.4,  1.5,  0.6],\n",
       "       [32.8, 44.1,  0.6,  0.7,  1.9],\n",
       "       [26.5, 38.7,  1.9,  3.8,  1.2],\n",
       "       [26.2, 36. ,  1.7,  1.8,  1.4],\n",
       "       [27.9, 40.4,  1.7,  2. ,  1.7],\n",
       "       [19.8, 34.4,  2.1,  2. ,  0.7],\n",
       "       [27.1, 37. ,  1.2,  1.8,  0.9],\n",
       "       [32.7, 32.1,  0.8,  2.1,  2.4],\n",
       "       [27.9, 38.4,  1.2,  1.1,  0.9],\n",
       "       [26.2, 37.9,  1. ,  1.8,  1.1]])"
      ]
     },
     "execution_count": 17,
     "metadata": {},
     "output_type": "execute_result"
    }
   ],
   "source": [
    "train_x"
   ]
  },
  {
   "cell_type": "code",
   "execution_count": 18,
   "id": "14f04aa0",
   "metadata": {},
   "outputs": [
    {
     "data": {
      "text/plain": [
       "(11, 5)"
      ]
     },
     "execution_count": 18,
     "metadata": {},
     "output_type": "execute_result"
    }
   ],
   "source": [
    "train_x.shape"
   ]
  },
  {
   "cell_type": "code",
   "execution_count": 19,
   "id": "a0e9999c",
   "metadata": {},
   "outputs": [
    {
     "data": {
      "text/plain": [
       "array([[20.7, 28.4,  1. ,  1. ,  1. ],\n",
       "       [29.7, 40.1,  1.7,  1.8,  2.4],\n",
       "       [26.4, 38.6,  1.6,  2.2,  2.9],\n",
       "       [27.5, 37. ,  1.2,  1.1,  1.6]])"
      ]
     },
     "execution_count": 19,
     "metadata": {},
     "output_type": "execute_result"
    }
   ],
   "source": [
    "test_x"
   ]
  },
  {
   "cell_type": "code",
   "execution_count": 20,
   "id": "460f34ff",
   "metadata": {},
   "outputs": [
    {
     "data": {
      "text/plain": [
       "(4, 5)"
      ]
     },
     "execution_count": 20,
     "metadata": {},
     "output_type": "execute_result"
    }
   ],
   "source": [
    "test_x.shape"
   ]
  },
  {
   "cell_type": "code",
   "execution_count": 21,
   "id": "f44878ef",
   "metadata": {},
   "outputs": [],
   "source": [
    "from sklearn.naive_bayes import GaussianNB"
   ]
  },
  {
   "cell_type": "code",
   "execution_count": 22,
   "id": "1ac4fd3b",
   "metadata": {},
   "outputs": [],
   "source": [
    "model = GaussianNB()"
   ]
  },
  {
   "cell_type": "code",
   "execution_count": 23,
   "id": "9a1d8fc7",
   "metadata": {},
   "outputs": [
    {
     "data": {
      "text/plain": [
       "GaussianNB()"
      ]
     },
     "execution_count": 23,
     "metadata": {},
     "output_type": "execute_result"
    }
   ],
   "source": [
    "model.fit(train_x, train_y)"
   ]
  },
  {
   "cell_type": "code",
   "execution_count": 24,
   "id": "aaeb58fc",
   "metadata": {},
   "outputs": [
    {
     "data": {
      "text/plain": [
       "array(['Ideal', 'Ideal', 'Ideal', 'Ideal'], dtype='<U5')"
      ]
     },
     "execution_count": 24,
     "metadata": {},
     "output_type": "execute_result"
    }
   ],
   "source": [
    "model.predict(test_x)"
   ]
  },
  {
   "cell_type": "code",
   "execution_count": 25,
   "id": "92a8aa4f",
   "metadata": {},
   "outputs": [
    {
     "data": {
      "text/plain": [
       "array(['Ideal'], dtype='<U5')"
      ]
     },
     "execution_count": 25,
     "metadata": {},
     "output_type": "execute_result"
    }
   ],
   "source": [
    "model.predict([[20.0, 1.5, 1.6, 2.6, 70]])"
   ]
  },
  {
   "cell_type": "code",
   "execution_count": 26,
   "id": "83d5487e",
   "metadata": {},
   "outputs": [],
   "source": [
    "from sklearn.metrics import accuracy_score, confusion_matrix"
   ]
  },
  {
   "cell_type": "code",
   "execution_count": 27,
   "id": "eb9f7367",
   "metadata": {},
   "outputs": [
    {
     "data": {
      "text/plain": [
       "array([[2, 0, 0],\n",
       "       [1, 0, 0],\n",
       "       [1, 0, 0]], dtype=int64)"
      ]
     },
     "execution_count": 27,
     "metadata": {},
     "output_type": "execute_result"
    }
   ],
   "source": [
    "prediction = model.predict(test_x)\n",
    "\n",
    "confusion_matrix = confusion_matrix(test_y, prediction)\n",
    "confusion_matrix"
   ]
  },
  {
   "cell_type": "code",
   "execution_count": 28,
   "id": "b4aadebb",
   "metadata": {},
   "outputs": [
    {
     "name": "stdout",
     "output_type": "stream",
     "text": [
      "0.5\n"
     ]
    }
   ],
   "source": [
    "accuracy_score = accuracy_score(test_y, prediction)\n",
    "print(accuracy_score)"
   ]
  },
  {
   "cell_type": "code",
   "execution_count": 29,
   "id": "7b119e93",
   "metadata": {},
   "outputs": [
    {
     "name": "stdout",
     "output_type": "stream",
     "text": [
      "misclassified values :  2\n"
     ]
    }
   ],
   "source": [
    "print('misclassified values : ', (test_y != prediction).sum())"
   ]
  },
  {
   "cell_type": "code",
   "execution_count": 32,
   "id": "a6f8f4d6",
   "metadata": {},
   "outputs": [],
   "source": [
    "#import seaborn as sns\n",
    "#import matplotlib.pyplot as plt\n",
    "#plt.figure(figsize = (10,7))\n",
    "#sns.heatmap(confusion_matrix, annot=True, fmt='d')\n",
    "#plt.xlabel('Predicted')\n",
    "#plt.ylabel('Truth')"
   ]
  },
  {
   "cell_type": "code",
   "execution_count": null,
   "id": "6bf7bb00",
   "metadata": {},
   "outputs": [],
   "source": []
  }
 ],
 "metadata": {
  "kernelspec": {
   "display_name": "Python 3",
   "language": "python",
   "name": "python3"
  },
  "language_info": {
   "codemirror_mode": {
    "name": "ipython",
    "version": 3
   },
   "file_extension": ".py",
   "mimetype": "text/x-python",
   "name": "python",
   "nbconvert_exporter": "python",
   "pygments_lexer": "ipython3",
   "version": "3.8.8"
  }
 },
 "nbformat": 4,
 "nbformat_minor": 5
}
